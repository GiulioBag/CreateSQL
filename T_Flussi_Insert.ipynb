{
 "cells": [
  {
   "cell_type": "code",
   "execution_count": 3,
   "id": "2f8f8218",
   "metadata": {},
   "outputs": [],
   "source": [
    "class Flusso():\n",
    "    def __init__(self, nome):\n",
    "        self.nome = nome\n"
   ]
  },
  {
   "cell_type": "code",
   "execution_count": 4,
   "id": "c91f7a9c",
   "metadata": {},
   "outputs": [],
   "source": [
    "query = \"INSERT INTO [JOB].[T_Flusso] ([ID_Flusso],[Flusso_Name],[Flusso_Descr],[File_Template],[Technical_File],[First_Row],[Tipo_Caricamento],[Tabella_PRE_Caricamento],[Proc_Load],[Tabella_POST_Caricamento],[Flag_Attivo],[Tabella_Scarti],[Frequency],[Ordinamento],[Tipo_Ordinamento]) SELECT \" \n",
    "id_flusso = 71\n",
    "#nomeFlusso = [\"ANAGRAFICA_CLIENTI\", \"BANCOMAT_PAY\", \"MYKEY_BUSINESS\", \"XME_BANKS\", \"XME_PAY\", \"XME_SALVADANAIO\", \"XMECONTOUP_ANAG_CONTRATTI\", \"XMECONTOUP_LIMITI\"]\n",
    "#nomeFlusso = [Flusso(\"FC_ANAG_CLI\", True), Flusso(\"FC_SALDI\", True), Flusso(\"FC_PRODOTTI\", True), Flusso(\"FC_MOVIMENTI\", True)]\n",
    "#ambito = \"Previdenza\"\n",
    "#nomeFlusso = [Flusso(\"Anagrafica_Contratto_Previdenza\", False), Flusso(\"Movimenti_Previdenza\", False)]\n",
    "#ambito = \"Fondi\"\n",
    "\n",
    "\n",
    "ambito = \"Danni\"\n",
    "nomeFlusso = [Flusso(\"Downgrade\")]"
   ]
  },
  {
   "cell_type": "code",
   "execution_count": 5,
   "id": "aa759e00",
   "metadata": {},
   "outputs": [],
   "source": [
    "def sqlStr(par):\n",
    "    return \"\\'\" + str(par) + \"\\', \"\n",
    "def sqlInt(par):\n",
    "    return str(par) + \", \""
   ]
  },
  {
   "cell_type": "code",
   "execution_count": 6,
   "id": "879f5fcc",
   "metadata": {},
   "outputs": [],
   "source": [
    "whole_query = \"\"\n",
    "for flusso in nomeFlusso:\n",
    "        whole_query += query + sqlInt(id_flusso) + sqlStr(flusso.nome) + sqlStr((\" \").join(flusso.nome.lower().split(\"_\"))) + sqlStr(\"PRODGOVERNANCE4_\" + ambito + \"_\" + flusso.nome + \".*.csv\") + sqlStr(\"T_\" + ambito + \"_\" + flusso.nome + \"_Format.xml\") + sqlInt(2) + sqlStr(\"bulk\") + sqlStr(\"[L0].[T_\" + ambito + \"_\" + flusso.nome + \"]\") + sqlStr(\"[L1].[usp_Load_T_\" + ambito + \"_\" + flusso.nome + \"]\") + sqlStr(\"[L1].[T_\" + ambito + \"_\" + flusso.nome + \"]\") + sqlInt(1) + sqlStr(\"[L0_SCARTI].[T_\" + ambito + \"_\" + flusso.nome + \"]\") + sqlStr(\"G\") + sqlStr(\"LM\") + sqlStr(\"ASC\")\n",
    "        id_flusso += 1\n",
    "        whole_query = whole_query[:-2] + \"\\n\"\n"
   ]
  },
  {
   "cell_type": "code",
   "execution_count": 7,
   "id": "74f7fff6",
   "metadata": {},
   "outputs": [
    {
     "name": "stdout",
     "output_type": "stream",
     "text": [
      "INSERT INTO [JOB].[T_Flusso] ([ID_Flusso],[Flusso_Name],[Flusso_Descr],[File_Template],[Technical_File],[First_Row],[Tipo_Caricamento],[Tabella_PRE_Caricamento],[Proc_Load],[Tabella_POST_Caricamento],[Flag_Attivo],[Tabella_Scarti],[Frequency],[Ordinamento],[Tipo_Ordinamento]) SELECT 71, 'Downgrade', 'downgrade', 'PRODGOVERNANCE4_Danni_Downgrade.*.csv', 'T_Danni_Downgrade_Format.xml', 2, 'bulk', '[L0].[T_Danni_Downgrade]', '[L1].[usp_Load_T_Danni_Downgrade]', '[L1].[T_Danni_Downgrade]', 1, '[L0_SCARTI].[T_Danni_Downgrade]', 'G', 'LM', 'ASC'\n",
      "\n"
     ]
    }
   ],
   "source": [
    "print (whole_query)"
   ]
  },
  {
   "cell_type": "code",
   "execution_count": 14,
   "id": "bf88dec5",
   "metadata": {},
   "outputs": [],
   "source": [
    "import pandas as pd"
   ]
  },
  {
   "cell_type": "code",
   "execution_count": null,
   "id": "13168727",
   "metadata": {},
   "outputs": [],
   "source": []
  }
 ],
 "metadata": {
  "kernelspec": {
   "display_name": "Python 3 (ipykernel)",
   "language": "python",
   "name": "python3"
  },
  "language_info": {
   "codemirror_mode": {
    "name": "ipython",
    "version": 3
   },
   "file_extension": ".py",
   "mimetype": "text/x-python",
   "name": "python",
   "nbconvert_exporter": "python",
   "pygments_lexer": "ipython3",
   "version": "3.9.7"
  }
 },
 "nbformat": 4,
 "nbformat_minor": 5
}
