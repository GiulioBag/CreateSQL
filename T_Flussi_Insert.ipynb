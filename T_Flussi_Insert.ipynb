{
 "cells": [
  {
   "cell_type": "code",
   "execution_count": 13,
   "id": "2f8f8218",
   "metadata": {},
   "outputs": [],
   "source": [
    "class Flusso():\n",
    "    def __init__(self, nome, clone):\n",
    "        self.nome = nome\n",
    "        self.clone = clone"
   ]
  },
  {
   "cell_type": "code",
   "execution_count": 14,
   "id": "c91f7a9c",
   "metadata": {},
   "outputs": [],
   "source": [
    "query = \"INSERT INTO [JOB].[T_Flusso] ([ID_Flusso],[Flusso_Name],[Flusso_Descr],[File_Template],[Technical_File],[First_Row],[Tipo_Caricamento],[Tabella_PRE_Caricamento],[Proc_Load],[Tabella_POST_Caricamento],[Flag_Attivo],[Tabella_Scarti],[Frequency],[Ordinamento],[Tipo_Ordinamento]) SELECT \" \n",
    "id_flusso = 39\n",
    "#nomeFlusso = [\"ANAGRAFICA_CLIENTI\", \"BANCOMAT_PAY\", \"MYKEY_BUSINESS\", \"XME_BANKS\", \"XME_PAY\", \"XME_SALVADANAIO\", \"XMECONTOUP_ANAG_CONTRATTI\", \"XMECONTOUP_LIMITI\"]\n",
    "nomeFlusso = [Flusso(\"FC_ANAG_CLI\", True), Flusso(\"FC_SALDI\", True), Flusso(\"FC_PRODOTTI\", True), Flusso(\"FC_MOVIMENTI\", True)]\n",
    "ambito = \"Fondi\"\n",
    "\n",
    "#nomeFlusso = [\"GP_SOA\", \"GP_SALDI_MESE\", \"GP_RAPPORTI\", \"GP_MOVIMENTI\", \"GP_CONTRATTI\", \"GP_ANAG_CLI\"]\n",
    "#ambito = \"Fondi\"\n"
   ]
  },
  {
   "cell_type": "code",
   "execution_count": 15,
   "id": "aa759e00",
   "metadata": {},
   "outputs": [],
   "source": [
    "def sqlStr(par):\n",
    "    return \"\\'\" + str(par) + \"\\', \"\n",
    "def sqlInt(par):\n",
    "    return str(par) + \", \""
   ]
  },
  {
   "cell_type": "code",
   "execution_count": 16,
   "id": "879f5fcc",
   "metadata": {},
   "outputs": [],
   "source": [
    "whole_query = \"\"\n",
    "for flusso in nomeFlusso:\n",
    "    if not flusso.clone:\n",
    "        whole_query += query + sqlInt(id_flusso) + sqlStr(flusso.nome) + sqlStr((\" \").join(flusso.nome.lower().split(\"_\"))) + sqlStr(\"POG_\" + ambito + \"_\" + flusso.nome + \"_\\d{8}.csv\") + sqlStr(\"T_\" + ambito + \"_\" + flusso.nome + \"_Format.xml\") + sqlInt(2) + sqlStr(\"bulk\") + sqlStr(\"[L0].[T_\" + ambito + \"_\" + flusso.nome + \"]\") + sqlStr(\"[L1].[usp_Load_T_\" + ambito + \"_\" + flusso.nome + \"]\") + sqlStr(\"[L1].[T_\" + ambito + \"_\" + flusso.nome + \"]\") + sqlInt(1) + sqlStr(\"[L0_SCARTI].[T_\" + ambito + \"_\" + flusso.nome + \"]\") + sqlStr(\"G\") + sqlStr(\"LM\") + sqlStr(\"ASC\")\n",
    "        id_flusso += 1\n",
    "        whole_query = whole_query[:-2] + \"\\n\"\n",
    "    else:\n",
    "        whole_query += query + sqlInt(id_flusso) + sqlStr(flusso.nome) + sqlStr((\" \").join(flusso.nome.lower().split(\"_\"))) + sqlStr(\"POG_\" + ambito + \"_\" + flusso.nome + \"_01025_\\d{8}.csv\") + sqlStr(\"T_\" + ambito + \"_\" + flusso.nome + \"_Format.xml\") + sqlInt(2) + sqlStr(\"bulk\") + sqlStr(\"[L0].[T_\" + ambito + \"_\" + flusso.nome + \"]\") + sqlStr(\"[L1].[usp_Load_T_\" + ambito + \"_\" + flusso.nome + \"]\") + sqlStr(\"[L1].[T_\" + ambito + \"_\" + flusso.nome + \"]\") + sqlInt(1) + sqlStr(\"[L0_SCARTI].[T_\" + ambito + \"_\" + flusso.nome + \"]\") + sqlStr(\"G\") + sqlStr(\"LM\") + sqlStr(\"ASC\")\n",
    "        id_flusso += 1\n",
    "        whole_query = whole_query[:-2] + \"\\n\"\n",
    "        \n",
    "        whole_query += query + sqlInt(id_flusso) + sqlStr(flusso.nome) + sqlStr((\" \").join(flusso.nome.lower().split(\"_\"))) + sqlStr(\"POG_\" + ambito + \"_\" + flusso.nome + \"_03239_\\d{8}.csv\") + sqlStr(\"T_\" + ambito + \"_\" + flusso.nome + \"_Format.xml\") + sqlInt(2) + sqlStr(\"bulk\") + sqlStr(\"[L0].[T_\" + ambito + \"_\" + flusso.nome + \"]\") + sqlStr(\"[L1].[usp_Load_T_\" + ambito + \"_\" + flusso.nome + \"]\") + sqlStr(\"[L1].[T_\" + ambito + \"_\" + flusso.nome + \"]\") + sqlInt(1) + sqlStr(\"[L0_SCARTI].[T_\" + ambito + \"_\" + flusso.nome + \"]\") + sqlStr(\"G\") + sqlStr(\"LM\") + sqlStr(\"ASC\")\n",
    "        id_flusso += 1\n",
    "        whole_query = whole_query[:-2] + \"\\n\""
   ]
  },
  {
   "cell_type": "code",
   "execution_count": 17,
   "id": "74f7fff6",
   "metadata": {},
   "outputs": [
    {
     "name": "stdout",
     "output_type": "stream",
     "text": [
      "INSERT INTO [JOB].[T_Flusso] ([ID_Flusso],[Flusso_Name],[Flusso_Descr],[File_Template],[Technical_File],[First_Row],[Tipo_Caricamento],[Tabella_PRE_Caricamento],[Proc_Load],[Tabella_POST_Caricamento],[Flag_Attivo],[Tabella_Scarti],[Frequency],[Ordinamento],[Tipo_Ordinamento]) SELECT 39, 'FC_ANAG_CLI', 'fc anag cli', 'POG_Fondi_FC_ANAG_CLI_01025_\\d{8}.csv', 'T_Fondi_FC_ANAG_CLI_Format.xml', 2, 'bulk', '[L0].[T_Fondi_FC_ANAG_CLI]', '[L1].[usp_Load_T_Fondi_FC_ANAG_CLI]', '[L1].[T_Fondi_FC_ANAG_CLI]', 1, '[L0_SCARTI].[T_Fondi_FC_ANAG_CLI]', 'G', 'LM', 'ASC'\n",
      "INSERT INTO [JOB].[T_Flusso] ([ID_Flusso],[Flusso_Name],[Flusso_Descr],[File_Template],[Technical_File],[First_Row],[Tipo_Caricamento],[Tabella_PRE_Caricamento],[Proc_Load],[Tabella_POST_Caricamento],[Flag_Attivo],[Tabella_Scarti],[Frequency],[Ordinamento],[Tipo_Ordinamento]) SELECT 40, 'FC_ANAG_CLI', 'fc anag cli', 'POG_Fondi_FC_ANAG_CLI_03239_\\d{8}.csv', 'T_Fondi_FC_ANAG_CLI_Format.xml', 2, 'bulk', '[L0].[T_Fondi_FC_ANAG_CLI]', '[L1].[usp_Load_T_Fondi_FC_ANAG_CLI]', '[L1].[T_Fondi_FC_ANAG_CLI]', 1, '[L0_SCARTI].[T_Fondi_FC_ANAG_CLI]', 'G', 'LM', 'ASC'\n",
      "INSERT INTO [JOB].[T_Flusso] ([ID_Flusso],[Flusso_Name],[Flusso_Descr],[File_Template],[Technical_File],[First_Row],[Tipo_Caricamento],[Tabella_PRE_Caricamento],[Proc_Load],[Tabella_POST_Caricamento],[Flag_Attivo],[Tabella_Scarti],[Frequency],[Ordinamento],[Tipo_Ordinamento]) SELECT 41, 'FC_SALDI', 'fc saldi', 'POG_Fondi_FC_SALDI_01025_\\d{8}.csv', 'T_Fondi_FC_SALDI_Format.xml', 2, 'bulk', '[L0].[T_Fondi_FC_SALDI]', '[L1].[usp_Load_T_Fondi_FC_SALDI]', '[L1].[T_Fondi_FC_SALDI]', 1, '[L0_SCARTI].[T_Fondi_FC_SALDI]', 'G', 'LM', 'ASC'\n",
      "INSERT INTO [JOB].[T_Flusso] ([ID_Flusso],[Flusso_Name],[Flusso_Descr],[File_Template],[Technical_File],[First_Row],[Tipo_Caricamento],[Tabella_PRE_Caricamento],[Proc_Load],[Tabella_POST_Caricamento],[Flag_Attivo],[Tabella_Scarti],[Frequency],[Ordinamento],[Tipo_Ordinamento]) SELECT 42, 'FC_SALDI', 'fc saldi', 'POG_Fondi_FC_SALDI_03239_\\d{8}.csv', 'T_Fondi_FC_SALDI_Format.xml', 2, 'bulk', '[L0].[T_Fondi_FC_SALDI]', '[L1].[usp_Load_T_Fondi_FC_SALDI]', '[L1].[T_Fondi_FC_SALDI]', 1, '[L0_SCARTI].[T_Fondi_FC_SALDI]', 'G', 'LM', 'ASC'\n",
      "INSERT INTO [JOB].[T_Flusso] ([ID_Flusso],[Flusso_Name],[Flusso_Descr],[File_Template],[Technical_File],[First_Row],[Tipo_Caricamento],[Tabella_PRE_Caricamento],[Proc_Load],[Tabella_POST_Caricamento],[Flag_Attivo],[Tabella_Scarti],[Frequency],[Ordinamento],[Tipo_Ordinamento]) SELECT 43, 'FC_PRODOTTI', 'fc prodotti', 'POG_Fondi_FC_PRODOTTI_01025_\\d{8}.csv', 'T_Fondi_FC_PRODOTTI_Format.xml', 2, 'bulk', '[L0].[T_Fondi_FC_PRODOTTI]', '[L1].[usp_Load_T_Fondi_FC_PRODOTTI]', '[L1].[T_Fondi_FC_PRODOTTI]', 1, '[L0_SCARTI].[T_Fondi_FC_PRODOTTI]', 'G', 'LM', 'ASC'\n",
      "INSERT INTO [JOB].[T_Flusso] ([ID_Flusso],[Flusso_Name],[Flusso_Descr],[File_Template],[Technical_File],[First_Row],[Tipo_Caricamento],[Tabella_PRE_Caricamento],[Proc_Load],[Tabella_POST_Caricamento],[Flag_Attivo],[Tabella_Scarti],[Frequency],[Ordinamento],[Tipo_Ordinamento]) SELECT 44, 'FC_PRODOTTI', 'fc prodotti', 'POG_Fondi_FC_PRODOTTI_03239_\\d{8}.csv', 'T_Fondi_FC_PRODOTTI_Format.xml', 2, 'bulk', '[L0].[T_Fondi_FC_PRODOTTI]', '[L1].[usp_Load_T_Fondi_FC_PRODOTTI]', '[L1].[T_Fondi_FC_PRODOTTI]', 1, '[L0_SCARTI].[T_Fondi_FC_PRODOTTI]', 'G', 'LM', 'ASC'\n",
      "INSERT INTO [JOB].[T_Flusso] ([ID_Flusso],[Flusso_Name],[Flusso_Descr],[File_Template],[Technical_File],[First_Row],[Tipo_Caricamento],[Tabella_PRE_Caricamento],[Proc_Load],[Tabella_POST_Caricamento],[Flag_Attivo],[Tabella_Scarti],[Frequency],[Ordinamento],[Tipo_Ordinamento]) SELECT 45, 'FC_MOVIMENTI', 'fc movimenti', 'POG_Fondi_FC_MOVIMENTI_01025_\\d{8}.csv', 'T_Fondi_FC_MOVIMENTI_Format.xml', 2, 'bulk', '[L0].[T_Fondi_FC_MOVIMENTI]', '[L1].[usp_Load_T_Fondi_FC_MOVIMENTI]', '[L1].[T_Fondi_FC_MOVIMENTI]', 1, '[L0_SCARTI].[T_Fondi_FC_MOVIMENTI]', 'G', 'LM', 'ASC'\n",
      "INSERT INTO [JOB].[T_Flusso] ([ID_Flusso],[Flusso_Name],[Flusso_Descr],[File_Template],[Technical_File],[First_Row],[Tipo_Caricamento],[Tabella_PRE_Caricamento],[Proc_Load],[Tabella_POST_Caricamento],[Flag_Attivo],[Tabella_Scarti],[Frequency],[Ordinamento],[Tipo_Ordinamento]) SELECT 46, 'FC_MOVIMENTI', 'fc movimenti', 'POG_Fondi_FC_MOVIMENTI_03239_\\d{8}.csv', 'T_Fondi_FC_MOVIMENTI_Format.xml', 2, 'bulk', '[L0].[T_Fondi_FC_MOVIMENTI]', '[L1].[usp_Load_T_Fondi_FC_MOVIMENTI]', '[L1].[T_Fondi_FC_MOVIMENTI]', 1, '[L0_SCARTI].[T_Fondi_FC_MOVIMENTI]', 'G', 'LM', 'ASC'\n",
      "\n"
     ]
    }
   ],
   "source": [
    "print (whole_query)"
   ]
  },
  {
   "cell_type": "code",
   "execution_count": null,
   "id": "bf88dec5",
   "metadata": {},
   "outputs": [],
   "source": []
  }
 ],
 "metadata": {
  "kernelspec": {
   "display_name": "Python 3 (ipykernel)",
   "language": "python",
   "name": "python3"
  },
  "language_info": {
   "codemirror_mode": {
    "name": "ipython",
    "version": 3
   },
   "file_extension": ".py",
   "mimetype": "text/x-python",
   "name": "python",
   "nbconvert_exporter": "python",
   "pygments_lexer": "ipython3",
   "version": "3.9.7"
  }
 },
 "nbformat": 4,
 "nbformat_minor": 5
}
