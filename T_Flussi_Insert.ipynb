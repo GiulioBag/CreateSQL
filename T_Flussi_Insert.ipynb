{
 "cells": [
  {
   "cell_type": "code",
   "execution_count": null,
   "id": "b9f9566f",
   "metadata": {},
   "outputs": [],
   "source": [
    "INSERT INTO [JOB].[T_Flusso] ([ID_Flusso],[Flusso_Name],[Flusso_Descr],[File_Template],[Technical_File],[First_Row],[Tipo_Caricamento],[Tabella_PRE_Caricamento],[Proc_Load],[Tabella_POST_Caricamento],[Flag_Attivo],[Tabella_Scarti],[Frequency],[Ordinamento],[Tipo_Ordinamento]) SELECT 2,'Versamenti_Integrativi','Versamenti Integrativi','VERSAM_INTEGRATIVI.csv','T_Vita_Versamenti_Integrativi_Format.xml',2,'bulk','[L0].[T_Vita_Versamenti_Integrativi]','[L1].[usp_Load_T_Vita_Versamenti_Integrativi]','[L1].[T_Vita_Versamenti_Integrativi]',1,'[L0_SCARTI].[T_Vita_Versamenti_Integrativi]','G','LM','ASC' \n",
    "INSERT INTO [JOB].[T_Flusso] ([ID_Flusso],[Flusso_Name],[Flusso_Descr],[File_Template],[Technical_File],[First_Row],[Tipo_Caricamento],[Tabella_PRE_Caricamento],[Proc_Load],[Tabella_POST_Caricamento],[Flag_Attivo],[Tabella_Scarti],[Frequency],[Ordinamento],[Tipo_Ordinamento]) SELECT 3,'Trasformazioni','Trasformazioni','ESTRATTO_TRASFORMAZIONI.csv','T_Vita_Trasformazioni_Format.xml',2,'bulk','[L0].[T_Vita_Trasformazioni]','[L1].[usp_Load_T_Vita_Trasformazioni]','[L1].[T_Vita_Trasformazioni]',1,'[L0_SCARTI].[T_Vita_Trasformazioni]','G','LM','ASC' \n",
    "INSERT INTO [JOB].[T_Flusso] ([ID_Flusso],[Flusso_Name],[Flusso_Descr],[File_Template],[Technical_File],[First_Row],[Tipo_Caricamento],[Tabella_PRE_Caricamento],[Proc_Load],[Tabella_POST_Caricamento],[Flag_Attivo],[Tabella_Scarti],[Frequency],[Ordinamento],[Tipo_Ordinamento]) SELECT 4,'Riscatti','Riscatti','ESTRATTO_RISCATTI_POLIZZE.csv','T_Vita_Riscatti_Format.xml',2,'bulk','[L0].[T_Vita_Riscatti]','[L1].[usp_Load_T_Vita_Riscatti]','[L1].[T_Vita_Riscatti]',1,'[L0_SCARTI].[T_Vita_Riscatti]','G','LM','ASC' \n",
    "INSERT INTO [JOB].[T_Flusso] ([ID_Flusso],[Flusso_Name],[Flusso_Descr],[File_Template],[Technical_File],[First_Row],[Tipo_Caricamento],[Tabella_PRE_Caricamento],[Proc_Load],[Tabella_POST_Caricamento],[Flag_Attivo],[Tabella_Scarti],[Frequency],[Ordinamento],[Tipo_Ordinamento]) SELECT 5,'Strutture_Organizzative','Strutture Organizzative','Strutture_Organizzative_\\d{8}\\.csv','T_Vita_Strutture_Organizzative_Format.xml',2,'bulk','[L0].[T_Strutture_Organizzative]','[L1].[usp_Load_T_Strutture_Organizzative]','[L1].[T_Strutture_Organizzative]',1,'[L0_SCARTI].[T_Strutture_Organizzative]','G','LM','ASC' \n",
    "INSERT INTO [JOB].[T_Flusso] ([ID_Flusso],[Flusso_Name],[Flusso_Descr],[File_Template],[Technical_File],[First_Row],[Tipo_Caricamento],[Tabella_PRE_Caricamento],[Proc_Load],[Tabella_POST_Caricamento],[Flag_Attivo],[Tabella_Scarti],[Frequency],[Ordinamento],[Tipo_Ordinamento]) SELECT 6,'Anagrafica_Polizze','Anagrafica Polizze','ESTRATTO_ANAG_POL_VITA.csv','T_Vita_Anagrafica_Polizze_Format.xml',2,'bulk','[L0].[T_Vita_Anagrafica_Polizze]','[L1].[usp_Load_T_Vita_Anagrafica_Polizze]','[L1].[T_Vita_Anagrafica_Polizze]',1,'[L0_SCARTI].[T_Vita_Anagrafica_Polizze]','G','LM','ASC' \n",
    "INSERT INTO [JOB].[T_Flusso] ([ID_Flusso],[Flusso_Name],[Flusso_Descr],[File_Template],[Technical_File],[First_Row],[Tipo_Caricamento],[Tabella_PRE_Caricamento],[Proc_Load],[Tabella_POST_Caricamento],[Flag_Attivo],[Tabella_Scarti],[Frequency],[Ordinamento],[Tipo_Ordinamento]) SELECT 7,'Anagrafica_Clienti','Anagrafica Clienti','ESTRATTO_ANAG_CLI_VITA.csv','T_Vita_Anagrafica_Clienti_Format.xml',2,'bulk','[L0].[T_Vita_Anagrafica_Clienti]','[L1].[usp_Load_T_Vita_Anagrafica_Clienti]','[L1].[T_Vita_Anagrafica_Clienti]',1,'[L0_SCARTI].[T_Vita_Anagrafica_Clienti]','G','LM','ASC' \n",
    "INSERT INTO [JOB].[T_Flusso] ([ID_Flusso],[Flusso_Name],[Flusso_Descr],[File_Template],[Technical_File],[First_Row],[Tipo_Caricamento],[Tabella_PRE_Caricamento],[Proc_Load],[Tabella_POST_Caricamento],[Flag_Attivo],[Tabella_Scarti],[Frequency],[Ordinamento],[Tipo_Ordinamento]) SELECT 8,'Polizze_Prodotto','Polizze Prodotto','Polizze_Prodotto_\\d{8}\\.csv','T_Vita_Polizze_Prodotto_Format.xml',2,'bulk','[L0].[T_Vita_Polizze_Prodotto]','[L1].[usp_Load_T_Vita_Polizze_Prodotto]','[L1].[T_Vita_Polizze_Prodotto]',1,'[L0_SCARTI].[T_Vita_Polizze_Prodotto]','G','LM','ASC' \n",
    "INSERT INTO [JOB].[T_Flusso] ([ID_Flusso],[Flusso_Name],[Flusso_Descr],[File_Template],[Technical_File],[First_Row],[Tipo_Caricamento],[Tabella_PRE_Caricamento],[Proc_Load],[Tabella_POST_Caricamento],[Flag_Attivo],[Tabella_Scarti],[Frequency],[Ordinamento],[Tipo_Ordinamento]) SELECT 9,'Fondi_Polizze','Fondi Polizze','ESTRATTO_FONDI_POL.csv','T_Vita_Fondi_Polizze_Format.xml',2,'bulk','[L0].[T_Vita_Fondi_Polizze]','[L1].[usp_Load_T_Vita_Fondi_Polizze]','[L1].[T_Vita_Fondi_Polizze]',1,'[L0_SCARTI].[T_Vita_Fondi_Polizze]','G','LM','ASC' \n",
    "INSERT INTO [JOB].[T_Flusso] ([ID_Flusso],[Flusso_Name],[Flusso_Descr],[File_Template],[Technical_File],[First_Row],[Tipo_Caricamento],[Tabella_PRE_Caricamento],[Proc_Load],[Tabella_POST_Caricamento],[Flag_Attivo],[Tabella_Scarti],[Frequency],[Ordinamento],[Tipo_Ordinamento]) SELECT 10,'Area_Fondi','Area Fondi','ESTRATTO_AREA_FONDI.csv','T_Vita_Area_Fondi_Format.xml',2,'bulk','[L0].[T_Vita_Area_Fondi]','[L1].[usp_Load_T_Vita_Area_Fondi]','[L1].[T_Vita_Area_Fondi]',1,'[L0_SCARTI].[T_Vita_Area_Fondi]','G','LM','ASC' \n",
    "INSERT INTO [JOB].[T_Flusso] ([ID_Flusso],[Flusso_Name],[Flusso_Descr],[File_Template],[Technical_File],[First_Row],[Tipo_Caricamento],[Tabella_PRE_Caricamento],[Proc_Load],[Tabella_POST_Caricamento],[Flag_Attivo],[Tabella_Scarti],[Frequency],[Ordinamento],[Tipo_Ordinamento]) SELECT 11,'Quote_Fondi_Vita','Quote Fondi Vita','ESTRATTO_QUOTE_FONDI_VITA.csv','T_Vita_Quote_Fondi_Format.xml',2,'bulk','[L0].[T_Vita_Quote_Fondi]','[L1].[usp_Load_T_Vita_Quote_Fondi]','[L1].[T_Vita_Quote_Fondi]',1,'[L0_SCARTI].[T_Vita_Quote_Fondi]','G','LM','ASC' \n",
    "INSERT INTO [JOB].[T_Flusso] ([ID_Flusso],[Flusso_Name],[Flusso_Descr],[File_Template],[Technical_File],[First_Row],[Tipo_Caricamento],[Tabella_PRE_Caricamento],[Proc_Load],[Tabella_POST_Caricamento],[Flag_Attivo],[Tabella_Scarti],[Frequency],[Ordinamento],[Tipo_Ordinamento]) SELECT 12,'Reclami_Vita','Reclami Vita','ESTRATTO_POL_RECLAMI.csv','T_Vita_Reclami_Format.xml',2,'bulk','[L0].[T_Vita_Reclami]','[L1].[usp_Load_T_Vita_Reclami]','[L1].[T_Vita_Reclami]',0,'[L0_SCARTI].[T_Vita_Reclami]','G','LM','ASC' \n",
    "INSERT INTO [JOB].[T_Flusso] ([ID_Flusso],[Flusso_Name],[Flusso_Descr],[File_Template],[Technical_File],[First_Row],[Tipo_Caricamento],[Tabella_PRE_Caricamento],[Proc_Load],[Tabella_POST_Caricamento],[Flag_Attivo],[Tabella_Scarti],[Frequency],[Ordinamento],[Tipo_Ordinamento]) SELECT 13,'Linea_Fondi','Linea_Fondi','Linea_Fondi_\\d{8}\\.csv','T_Vita_Linea_Fondi_Format.xml',2,'bulk','[L0].[T_Vita_Linea_Fondi]','[L1].[usp_Load_T_Vita_Linea_Fondi]','[L1].[T_Vita_Linea_Fondi]',1,'[L0_SCARTI].[T_Vita_Linea_Fondi]','G','LM','ASC' \n",
    "INSERT INTO [JOB].[T_Flusso] ([ID_Flusso],[Flusso_Name],[Flusso_Descr],[File_Template],[Technical_File],[First_Row],[Tipo_Caricamento],[Tabella_PRE_Caricamento],[Proc_Load],[Tabella_POST_Caricamento],[Flag_Attivo],[Tabella_Scarti],[Frequency],[Ordinamento],[Tipo_Ordinamento]) SELECT 14,'Sospensioni','Sospensioni','Sospensioni_\\d{8}\\.csv','T_Vita_Sospensioni_Format.xml',2,'bulk','[L0].[T_Vita_Sospensioni]','[L1].[usp_Load_T_Vita_Sospensioni]','[L1].[T_Vita_Sospensioni]',1,'[L0_SCARTI].[T_Vita_Sospensioni]','G','LM','ASC' "
   ]
  },
  {
   "cell_type": "code",
   "execution_count": 34,
   "id": "c91f7a9c",
   "metadata": {},
   "outputs": [],
   "source": [
    "query = \"INSERT INTO [JOB].[T_Flusso] ([ID_Flusso],[Flusso_Name],[Flusso_Descr],[File_Template],[Technical_File],[First_Row],[Tipo_Caricamento],[Tabella_PRE_Caricamento],[Proc_Load],[Tabella_POST_Caricamento],[Flag_Attivo],[Tabella_Scarti],[Frequency],[Ordinamento],[Tipo_Ordinamento]) SELECT \" \n",
    "id_flusso = 24\n",
    "#nomeFlusso = [\"ANAGRAFICA_CLIENTI\", \"BANCOMAT_PAY\", \"MYKEY_BUSINESS\", \"XME_BANKS\", \"XME_PAY\", \"XME_SALVADANAIO\", \"XMECONTOUP_ANAG_CONTRATTI\", \"XMECONTOUP_LIMITI\"]\n",
    "nomeFlusso = [\"MUTUI_CONTRATTI\", \"ANAGRAFICA_CLIENTI\", \"RATE\", \"DOMINIO_STATO_PRATICA\"]\n",
    "ambito = \"Mutui\"\n"
   ]
  },
  {
   "cell_type": "code",
   "execution_count": 35,
   "id": "aa759e00",
   "metadata": {},
   "outputs": [],
   "source": [
    "def sqlStr(par):\n",
    "    return \"\\'\" + str(par) + \"\\', \"\n",
    "def sqlInt(par):\n",
    "    return str(par) + \", \""
   ]
  },
  {
   "cell_type": "code",
   "execution_count": 36,
   "id": "879f5fcc",
   "metadata": {},
   "outputs": [],
   "source": [
    "whole_query = \"\"\n",
    "for nome in nomeFlusso:\n",
    "    whole_query += query + sqlInt(id_flusso) + sqlStr(nome) + sqlStr((\" \").join(nome.lower().split(\"_\"))) + sqlStr(\"POG_\" + ambito + \"_\" + nome + \"_\\d{8}.csv\") + sqlStr(\"T_\" + ambito + \"_\" + nome + \"_Format.xml\") + sqlInt(2) + sqlStr(\"bulk\") + sqlStr(\"[L0].[T_\" + ambito + \"_\" + nome + \"]\") + sqlStr(\"[L1].[usp_Load_T_\" + ambito + \"_\" + nome + \"]\") + sqlStr(\"[L1].[T_\" + ambito + \"_\" + nome + \"]\") + sqlInt(1) + sqlStr(\"[L0_SCARTI].[T_\" + ambito + \"_\" + nome + \"]\") + sqlStr(\"G\") + sqlStr(\"LM\") + sqlStr(\"ASC\")\n",
    "    id_flusso += 1\n",
    "    whole_query = whole_query[:-2] + \"\\n\""
   ]
  },
  {
   "cell_type": "code",
   "execution_count": 37,
   "id": "74f7fff6",
   "metadata": {},
   "outputs": [
    {
     "name": "stdout",
     "output_type": "stream",
     "text": [
      "INSERT INTO [JOB].[T_Flusso] ([ID_Flusso],[Flusso_Name],[Flusso_Descr],[File_Template],[Technical_File],[First_Row],[Tipo_Caricamento],[Tabella_PRE_Caricamento],[Proc_Load],[Tabella_POST_Caricamento],[Flag_Attivo],[Tabella_Scarti],[Frequency],[Ordinamento],[Tipo_Ordinamento]) SELECT 24, 'MUTUI_CONTRATTI', 'mutui contratti', 'POG_Mutui_MUTUI_CONTRATTI_\\d{8}.csv', 'T_Mutui-_MUTUI_CONTRATTI_Format.xml', 2, 'bulk', '[L0].[T_Mutui_MUTUI_CONTRATTI]', '[L1].[usp_Load_T_Mutui_MUTUI_CONTRATTI]', '[L1].[T_Mutui_MUTUI_CONTRATTI]', 1, '[L0_SCARTI].[T_Mutui_MUTUI_CONTRATTI]', 'G', 'LM', 'ASC'\n",
      "INSERT INTO [JOB].[T_Flusso] ([ID_Flusso],[Flusso_Name],[Flusso_Descr],[File_Template],[Technical_File],[First_Row],[Tipo_Caricamento],[Tabella_PRE_Caricamento],[Proc_Load],[Tabella_POST_Caricamento],[Flag_Attivo],[Tabella_Scarti],[Frequency],[Ordinamento],[Tipo_Ordinamento]) SELECT 25, 'ANAGRAFICA_CLIENTI', 'anagrafica clienti', 'POG_Mutui_ANAGRAFICA_CLIENTI_\\d{8}.csv', 'T_Mutui-_ANAGRAFICA_CLIENTI_Format.xml', 2, 'bulk', '[L0].[T_Mutui_ANAGRAFICA_CLIENTI]', '[L1].[usp_Load_T_Mutui_ANAGRAFICA_CLIENTI]', '[L1].[T_Mutui_ANAGRAFICA_CLIENTI]', 1, '[L0_SCARTI].[T_Mutui_ANAGRAFICA_CLIENTI]', 'G', 'LM', 'ASC'\n",
      "INSERT INTO [JOB].[T_Flusso] ([ID_Flusso],[Flusso_Name],[Flusso_Descr],[File_Template],[Technical_File],[First_Row],[Tipo_Caricamento],[Tabella_PRE_Caricamento],[Proc_Load],[Tabella_POST_Caricamento],[Flag_Attivo],[Tabella_Scarti],[Frequency],[Ordinamento],[Tipo_Ordinamento]) SELECT 26, 'RATE', 'rate', 'POG_Mutui_RATE_\\d{8}.csv', 'T_Mutui-_RATE_Format.xml', 2, 'bulk', '[L0].[T_Mutui_RATE]', '[L1].[usp_Load_T_Mutui_RATE]', '[L1].[T_Mutui_RATE]', 1, '[L0_SCARTI].[T_Mutui_RATE]', 'G', 'LM', 'ASC'\n",
      "INSERT INTO [JOB].[T_Flusso] ([ID_Flusso],[Flusso_Name],[Flusso_Descr],[File_Template],[Technical_File],[First_Row],[Tipo_Caricamento],[Tabella_PRE_Caricamento],[Proc_Load],[Tabella_POST_Caricamento],[Flag_Attivo],[Tabella_Scarti],[Frequency],[Ordinamento],[Tipo_Ordinamento]) SELECT 27, 'DOMINIO_STATO_PRATICA', 'dominio stato pratica', 'POG_Mutui_DOMINIO_STATO_PRATICA_\\d{8}.csv', 'T_Mutui-_DOMINIO_STATO_PRATICA_Format.xml', 2, 'bulk', '[L0].[T_Mutui_DOMINIO_STATO_PRATICA]', '[L1].[usp_Load_T_Mutui_DOMINIO_STATO_PRATICA]', '[L1].[T_Mutui_DOMINIO_STATO_PRATICA]', 1, '[L0_SCARTI].[T_Mutui_DOMINIO_STATO_PRATICA]', 'G', 'LM', 'ASC'\n",
      "\n"
     ]
    }
   ],
   "source": [
    "print (whole_query)"
   ]
  },
  {
   "cell_type": "code",
   "execution_count": null,
   "id": "bf88dec5",
   "metadata": {},
   "outputs": [],
   "source": []
  }
 ],
 "metadata": {
  "kernelspec": {
   "display_name": "Python 3 (ipykernel)",
   "language": "python",
   "name": "python3"
  },
  "language_info": {
   "codemirror_mode": {
    "name": "ipython",
    "version": 3
   },
   "file_extension": ".py",
   "mimetype": "text/x-python",
   "name": "python",
   "nbconvert_exporter": "python",
   "pygments_lexer": "ipython3",
   "version": "3.9.7"
  }
 },
 "nbformat": 4,
 "nbformat_minor": 5
}
