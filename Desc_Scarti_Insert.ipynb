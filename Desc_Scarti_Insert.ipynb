{
 "cells": [
  {
   "cell_type": "code",
   "execution_count": 7,
   "id": "8ca62c3b",
   "metadata": {},
   "outputs": [],
   "source": [
    "class Flusso:\n",
    "    def __init__ (self, name, date, numeric):\n",
    "        self.name = name\n",
    "        self.date = date\n",
    "        self.numeric = numeric"
   ]
  },
  {
   "cell_type": "code",
   "execution_count": 17,
   "id": "514db013",
   "metadata": {},
   "outputs": [],
   "source": [
    "flussi = [Flusso(\"ANAGRAFICA_CLIENTI\", True, False), Flusso(\"BANCOMAT_PAY\", True, True) ,Flusso( \"BANCOMAT_PAY\", True , True), Flusso( \"MYKEY_BUSINESS\", True, True) , Flusso( \"XME_BANKS\", True, False),  Flusso(\"XME_PAY\", True, False),  Flusso(\"XME_PAY\", True, False) , Flusso( \"XME_SALVADANAIO\", True, True), Flusso( \"XMECONTOUP_ANAG_CONTRATTI\", True, True),  Flusso(\"XMECONTOUP_LIMITI\",  True, True), Flusso(\"MUTUI_CONTRATTI\", True, True), Flusso( \"ANAGRAFICA_CLIENTI\", True, False),  Flusso(\"RATE\",  True, True), Flusso(\"DOMINIO_STATO_PRATICA\", False, False)]\n",
    "idFlusso = 15\n",
    "query = \"INSERT INTO [L0_SCARTI].[T_Desc_Scarti] ([ID_Flusso],[Cod_Scarto],[Desc_Scarto], [BitMask_Scarti], [Flag_Enabled]) SELECT \"\n"
   ]
  },
  {
   "cell_type": "code",
   "execution_count": 18,
   "id": "b4781d6f",
   "metadata": {},
   "outputs": [],
   "source": [
    "whole_query = \"\"\n",
    "for flusso in flussi:\n",
    "\n",
    "    whole_query += query + str(idFlusso) + \", 'DUPLICATE_KEY', 'Chiave duplicata per il flusso in oggetto', 1, 0\\n\"\n",
    "    whole_query += query + str(idFlusso) + \", 'EMPTY_KEY', 'Chiave non valorizzata nel flusso in oggetto', 2, 1\\n\"\n",
    "    whole_query += query + str(idFlusso) + \", 'GET_ONE_DUPLICATE_KEY', 'In caso di chiave duplicata viene presa solamente una tra le righe duplicate. In particolare, viene presa la prima riga del file.', 4, 1\\n\"\n",
    "    \n",
    "    bitMasck = 8\n",
    "    if flusso.date:\n",
    "        whole_query += query + str(idFlusso) + \", 'EMPTY_DATE', 'Campo Date non valorizzato', \" + str(bitMasck) + \", 1\\n\"\n",
    "        bitMasck *= 2\n",
    "        whole_query += query + str(idFlusso) + \", 'INVALID_DATE', 'Campo Date non valido', \" + str(bitMasck) + \", 1\\n\"\n",
    "        \n",
    "    if flusso.numeric:\n",
    "        whole_query += query + str(idFlusso) + \", 'EMPTY_NUMERIC', 'Campo Numeric non valorizzato', \" + str(bitMasck) + \", 1\\n\"\n",
    "        bitMasck *= 2\n",
    "        whole_query += query + str(idFlusso) + \", 'INVALID_NUMERIC', 'Campo Numeric non valido', \" + str(bitMasck) + \", 1\\n\"\n",
    "        \n",
    "    idFlusso += 1"
   ]
  },
  {
   "cell_type": "code",
   "execution_count": 19,
   "id": "3f929d0e",
   "metadata": {},
   "outputs": [
    {
     "name": "stdout",
     "output_type": "stream",
     "text": [
      "INSERT INTO [L0_SCARTI].[T_Desc_Scarti] ([ID_Flusso],[Cod_Scarto],[Desc_Scarto], [BitMask_Scarti], [Flag_Enabled]) SELECT 15, 'DUPLICATE_KEY', 'Chiave duplicata per il flusso in oggetto', 1, 0\n",
      "INSERT INTO [L0_SCARTI].[T_Desc_Scarti] ([ID_Flusso],[Cod_Scarto],[Desc_Scarto], [BitMask_Scarti], [Flag_Enabled]) SELECT 15, 'EMPTY_KEY', 'Chiave non valorizzata nel flusso in oggetto', 2, 1\n",
      "INSERT INTO [L0_SCARTI].[T_Desc_Scarti] ([ID_Flusso],[Cod_Scarto],[Desc_Scarto], [BitMask_Scarti], [Flag_Enabled]) SELECT 15, 'GET_ONE_DUPLICATE_KEY', 'In caso di chiave duplicata viene presa solamente una tra le righe duplicate. In particolare, viene presa la prima riga del file.', 4, 1\n",
      "INSERT INTO [L0_SCARTI].[T_Desc_Scarti] ([ID_Flusso],[Cod_Scarto],[Desc_Scarto], [BitMask_Scarti], [Flag_Enabled]) SELECT 15, 'EMPTY_DATE', 'Campo Date non valorizzato', 8, 1\n",
      "INSERT INTO [L0_SCARTI].[T_Desc_Scarti] ([ID_Flusso],[Cod_Scarto],[Desc_Scarto], [BitMask_Scarti], [Flag_Enabled]) SELECT 15, 'INVALID_DATE', 'Campo Date non valido', 16, 1\n",
      "INSERT INTO [L0_SCARTI].[T_Desc_Scarti] ([ID_Flusso],[Cod_Scarto],[Desc_Scarto], [BitMask_Scarti], [Flag_Enabled]) SELECT 16, 'DUPLICATE_KEY', 'Chiave duplicata per il flusso in oggetto', 1, 0\n",
      "INSERT INTO [L0_SCARTI].[T_Desc_Scarti] ([ID_Flusso],[Cod_Scarto],[Desc_Scarto], [BitMask_Scarti], [Flag_Enabled]) SELECT 16, 'EMPTY_KEY', 'Chiave non valorizzata nel flusso in oggetto', 2, 1\n",
      "INSERT INTO [L0_SCARTI].[T_Desc_Scarti] ([ID_Flusso],[Cod_Scarto],[Desc_Scarto], [BitMask_Scarti], [Flag_Enabled]) SELECT 16, 'GET_ONE_DUPLICATE_KEY', 'In caso di chiave duplicata viene presa solamente una tra le righe duplicate. In particolare, viene presa la prima riga del file.', 4, 1\n",
      "INSERT INTO [L0_SCARTI].[T_Desc_Scarti] ([ID_Flusso],[Cod_Scarto],[Desc_Scarto], [BitMask_Scarti], [Flag_Enabled]) SELECT 16, 'EMPTY_DATE', 'Campo Date non valorizzato', 8, 1\n",
      "INSERT INTO [L0_SCARTI].[T_Desc_Scarti] ([ID_Flusso],[Cod_Scarto],[Desc_Scarto], [BitMask_Scarti], [Flag_Enabled]) SELECT 16, 'INVALID_DATE', 'Campo Date non valido', 16, 1\n",
      "INSERT INTO [L0_SCARTI].[T_Desc_Scarti] ([ID_Flusso],[Cod_Scarto],[Desc_Scarto], [BitMask_Scarti], [Flag_Enabled]) SELECT 16, 'EMPTY_NUMERIC', 'Campo Numeric non valorizzato', 16, 1\n",
      "INSERT INTO [L0_SCARTI].[T_Desc_Scarti] ([ID_Flusso],[Cod_Scarto],[Desc_Scarto], [BitMask_Scarti], [Flag_Enabled]) SELECT 16, 'INVALID_NUMERIC', 'Campo Numeric non valido', 32, 1\n",
      "INSERT INTO [L0_SCARTI].[T_Desc_Scarti] ([ID_Flusso],[Cod_Scarto],[Desc_Scarto], [BitMask_Scarti], [Flag_Enabled]) SELECT 17, 'DUPLICATE_KEY', 'Chiave duplicata per il flusso in oggetto', 1, 0\n",
      "INSERT INTO [L0_SCARTI].[T_Desc_Scarti] ([ID_Flusso],[Cod_Scarto],[Desc_Scarto], [BitMask_Scarti], [Flag_Enabled]) SELECT 17, 'EMPTY_KEY', 'Chiave non valorizzata nel flusso in oggetto', 2, 1\n",
      "INSERT INTO [L0_SCARTI].[T_Desc_Scarti] ([ID_Flusso],[Cod_Scarto],[Desc_Scarto], [BitMask_Scarti], [Flag_Enabled]) SELECT 17, 'GET_ONE_DUPLICATE_KEY', 'In caso di chiave duplicata viene presa solamente una tra le righe duplicate. In particolare, viene presa la prima riga del file.', 4, 1\n",
      "INSERT INTO [L0_SCARTI].[T_Desc_Scarti] ([ID_Flusso],[Cod_Scarto],[Desc_Scarto], [BitMask_Scarti], [Flag_Enabled]) SELECT 17, 'EMPTY_DATE', 'Campo Date non valorizzato', 8, 1\n",
      "INSERT INTO [L0_SCARTI].[T_Desc_Scarti] ([ID_Flusso],[Cod_Scarto],[Desc_Scarto], [BitMask_Scarti], [Flag_Enabled]) SELECT 17, 'INVALID_DATE', 'Campo Date non valido', 16, 1\n",
      "INSERT INTO [L0_SCARTI].[T_Desc_Scarti] ([ID_Flusso],[Cod_Scarto],[Desc_Scarto], [BitMask_Scarti], [Flag_Enabled]) SELECT 17, 'EMPTY_NUMERIC', 'Campo Numeric non valorizzato', 16, 1\n",
      "INSERT INTO [L0_SCARTI].[T_Desc_Scarti] ([ID_Flusso],[Cod_Scarto],[Desc_Scarto], [BitMask_Scarti], [Flag_Enabled]) SELECT 17, 'INVALID_NUMERIC', 'Campo Numeric non valido', 32, 1\n",
      "INSERT INTO [L0_SCARTI].[T_Desc_Scarti] ([ID_Flusso],[Cod_Scarto],[Desc_Scarto], [BitMask_Scarti], [Flag_Enabled]) SELECT 18, 'DUPLICATE_KEY', 'Chiave duplicata per il flusso in oggetto', 1, 0\n",
      "INSERT INTO [L0_SCARTI].[T_Desc_Scarti] ([ID_Flusso],[Cod_Scarto],[Desc_Scarto], [BitMask_Scarti], [Flag_Enabled]) SELECT 18, 'EMPTY_KEY', 'Chiave non valorizzata nel flusso in oggetto', 2, 1\n",
      "INSERT INTO [L0_SCARTI].[T_Desc_Scarti] ([ID_Flusso],[Cod_Scarto],[Desc_Scarto], [BitMask_Scarti], [Flag_Enabled]) SELECT 18, 'GET_ONE_DUPLICATE_KEY', 'In caso di chiave duplicata viene presa solamente una tra le righe duplicate. In particolare, viene presa la prima riga del file.', 4, 1\n",
      "INSERT INTO [L0_SCARTI].[T_Desc_Scarti] ([ID_Flusso],[Cod_Scarto],[Desc_Scarto], [BitMask_Scarti], [Flag_Enabled]) SELECT 18, 'EMPTY_DATE', 'Campo Date non valorizzato', 8, 1\n",
      "INSERT INTO [L0_SCARTI].[T_Desc_Scarti] ([ID_Flusso],[Cod_Scarto],[Desc_Scarto], [BitMask_Scarti], [Flag_Enabled]) SELECT 18, 'INVALID_DATE', 'Campo Date non valido', 16, 1\n",
      "INSERT INTO [L0_SCARTI].[T_Desc_Scarti] ([ID_Flusso],[Cod_Scarto],[Desc_Scarto], [BitMask_Scarti], [Flag_Enabled]) SELECT 18, 'EMPTY_NUMERIC', 'Campo Numeric non valorizzato', 16, 1\n",
      "INSERT INTO [L0_SCARTI].[T_Desc_Scarti] ([ID_Flusso],[Cod_Scarto],[Desc_Scarto], [BitMask_Scarti], [Flag_Enabled]) SELECT 18, 'INVALID_NUMERIC', 'Campo Numeric non valido', 32, 1\n",
      "INSERT INTO [L0_SCARTI].[T_Desc_Scarti] ([ID_Flusso],[Cod_Scarto],[Desc_Scarto], [BitMask_Scarti], [Flag_Enabled]) SELECT 19, 'DUPLICATE_KEY', 'Chiave duplicata per il flusso in oggetto', 1, 0\n",
      "INSERT INTO [L0_SCARTI].[T_Desc_Scarti] ([ID_Flusso],[Cod_Scarto],[Desc_Scarto], [BitMask_Scarti], [Flag_Enabled]) SELECT 19, 'EMPTY_KEY', 'Chiave non valorizzata nel flusso in oggetto', 2, 1\n",
      "INSERT INTO [L0_SCARTI].[T_Desc_Scarti] ([ID_Flusso],[Cod_Scarto],[Desc_Scarto], [BitMask_Scarti], [Flag_Enabled]) SELECT 19, 'GET_ONE_DUPLICATE_KEY', 'In caso di chiave duplicata viene presa solamente una tra le righe duplicate. In particolare, viene presa la prima riga del file.', 4, 1\n",
      "INSERT INTO [L0_SCARTI].[T_Desc_Scarti] ([ID_Flusso],[Cod_Scarto],[Desc_Scarto], [BitMask_Scarti], [Flag_Enabled]) SELECT 19, 'EMPTY_DATE', 'Campo Date non valorizzato', 8, 1\n",
      "INSERT INTO [L0_SCARTI].[T_Desc_Scarti] ([ID_Flusso],[Cod_Scarto],[Desc_Scarto], [BitMask_Scarti], [Flag_Enabled]) SELECT 19, 'INVALID_DATE', 'Campo Date non valido', 16, 1\n",
      "INSERT INTO [L0_SCARTI].[T_Desc_Scarti] ([ID_Flusso],[Cod_Scarto],[Desc_Scarto], [BitMask_Scarti], [Flag_Enabled]) SELECT 20, 'DUPLICATE_KEY', 'Chiave duplicata per il flusso in oggetto', 1, 0\n",
      "INSERT INTO [L0_SCARTI].[T_Desc_Scarti] ([ID_Flusso],[Cod_Scarto],[Desc_Scarto], [BitMask_Scarti], [Flag_Enabled]) SELECT 20, 'EMPTY_KEY', 'Chiave non valorizzata nel flusso in oggetto', 2, 1\n",
      "INSERT INTO [L0_SCARTI].[T_Desc_Scarti] ([ID_Flusso],[Cod_Scarto],[Desc_Scarto], [BitMask_Scarti], [Flag_Enabled]) SELECT 20, 'GET_ONE_DUPLICATE_KEY', 'In caso di chiave duplicata viene presa solamente una tra le righe duplicate. In particolare, viene presa la prima riga del file.', 4, 1\n",
      "INSERT INTO [L0_SCARTI].[T_Desc_Scarti] ([ID_Flusso],[Cod_Scarto],[Desc_Scarto], [BitMask_Scarti], [Flag_Enabled]) SELECT 20, 'EMPTY_DATE', 'Campo Date non valorizzato', 8, 1\n",
      "INSERT INTO [L0_SCARTI].[T_Desc_Scarti] ([ID_Flusso],[Cod_Scarto],[Desc_Scarto], [BitMask_Scarti], [Flag_Enabled]) SELECT 20, 'INVALID_DATE', 'Campo Date non valido', 16, 1\n",
      "INSERT INTO [L0_SCARTI].[T_Desc_Scarti] ([ID_Flusso],[Cod_Scarto],[Desc_Scarto], [BitMask_Scarti], [Flag_Enabled]) SELECT 21, 'DUPLICATE_KEY', 'Chiave duplicata per il flusso in oggetto', 1, 0\n",
      "INSERT INTO [L0_SCARTI].[T_Desc_Scarti] ([ID_Flusso],[Cod_Scarto],[Desc_Scarto], [BitMask_Scarti], [Flag_Enabled]) SELECT 21, 'EMPTY_KEY', 'Chiave non valorizzata nel flusso in oggetto', 2, 1\n",
      "INSERT INTO [L0_SCARTI].[T_Desc_Scarti] ([ID_Flusso],[Cod_Scarto],[Desc_Scarto], [BitMask_Scarti], [Flag_Enabled]) SELECT 21, 'GET_ONE_DUPLICATE_KEY', 'In caso di chiave duplicata viene presa solamente una tra le righe duplicate. In particolare, viene presa la prima riga del file.', 4, 1\n",
      "INSERT INTO [L0_SCARTI].[T_Desc_Scarti] ([ID_Flusso],[Cod_Scarto],[Desc_Scarto], [BitMask_Scarti], [Flag_Enabled]) SELECT 21, 'EMPTY_DATE', 'Campo Date non valorizzato', 8, 1\n",
      "INSERT INTO [L0_SCARTI].[T_Desc_Scarti] ([ID_Flusso],[Cod_Scarto],[Desc_Scarto], [BitMask_Scarti], [Flag_Enabled]) SELECT 21, 'INVALID_DATE', 'Campo Date non valido', 16, 1\n",
      "INSERT INTO [L0_SCARTI].[T_Desc_Scarti] ([ID_Flusso],[Cod_Scarto],[Desc_Scarto], [BitMask_Scarti], [Flag_Enabled]) SELECT 22, 'DUPLICATE_KEY', 'Chiave duplicata per il flusso in oggetto', 1, 0\n",
      "INSERT INTO [L0_SCARTI].[T_Desc_Scarti] ([ID_Flusso],[Cod_Scarto],[Desc_Scarto], [BitMask_Scarti], [Flag_Enabled]) SELECT 22, 'EMPTY_KEY', 'Chiave non valorizzata nel flusso in oggetto', 2, 1\n",
      "INSERT INTO [L0_SCARTI].[T_Desc_Scarti] ([ID_Flusso],[Cod_Scarto],[Desc_Scarto], [BitMask_Scarti], [Flag_Enabled]) SELECT 22, 'GET_ONE_DUPLICATE_KEY', 'In caso di chiave duplicata viene presa solamente una tra le righe duplicate. In particolare, viene presa la prima riga del file.', 4, 1\n",
      "INSERT INTO [L0_SCARTI].[T_Desc_Scarti] ([ID_Flusso],[Cod_Scarto],[Desc_Scarto], [BitMask_Scarti], [Flag_Enabled]) SELECT 22, 'EMPTY_DATE', 'Campo Date non valorizzato', 8, 1\n",
      "INSERT INTO [L0_SCARTI].[T_Desc_Scarti] ([ID_Flusso],[Cod_Scarto],[Desc_Scarto], [BitMask_Scarti], [Flag_Enabled]) SELECT 22, 'INVALID_DATE', 'Campo Date non valido', 16, 1\n",
      "INSERT INTO [L0_SCARTI].[T_Desc_Scarti] ([ID_Flusso],[Cod_Scarto],[Desc_Scarto], [BitMask_Scarti], [Flag_Enabled]) SELECT 22, 'EMPTY_NUMERIC', 'Campo Numeric non valorizzato', 16, 1\n",
      "INSERT INTO [L0_SCARTI].[T_Desc_Scarti] ([ID_Flusso],[Cod_Scarto],[Desc_Scarto], [BitMask_Scarti], [Flag_Enabled]) SELECT 22, 'INVALID_NUMERIC', 'Campo Numeric non valido', 32, 1\n",
      "INSERT INTO [L0_SCARTI].[T_Desc_Scarti] ([ID_Flusso],[Cod_Scarto],[Desc_Scarto], [BitMask_Scarti], [Flag_Enabled]) SELECT 23, 'DUPLICATE_KEY', 'Chiave duplicata per il flusso in oggetto', 1, 0\n",
      "INSERT INTO [L0_SCARTI].[T_Desc_Scarti] ([ID_Flusso],[Cod_Scarto],[Desc_Scarto], [BitMask_Scarti], [Flag_Enabled]) SELECT 23, 'EMPTY_KEY', 'Chiave non valorizzata nel flusso in oggetto', 2, 1\n",
      "INSERT INTO [L0_SCARTI].[T_Desc_Scarti] ([ID_Flusso],[Cod_Scarto],[Desc_Scarto], [BitMask_Scarti], [Flag_Enabled]) SELECT 23, 'GET_ONE_DUPLICATE_KEY', 'In caso di chiave duplicata viene presa solamente una tra le righe duplicate. In particolare, viene presa la prima riga del file.', 4, 1\n",
      "INSERT INTO [L0_SCARTI].[T_Desc_Scarti] ([ID_Flusso],[Cod_Scarto],[Desc_Scarto], [BitMask_Scarti], [Flag_Enabled]) SELECT 23, 'EMPTY_DATE', 'Campo Date non valorizzato', 8, 1\n",
      "INSERT INTO [L0_SCARTI].[T_Desc_Scarti] ([ID_Flusso],[Cod_Scarto],[Desc_Scarto], [BitMask_Scarti], [Flag_Enabled]) SELECT 23, 'INVALID_DATE', 'Campo Date non valido', 16, 1\n",
      "INSERT INTO [L0_SCARTI].[T_Desc_Scarti] ([ID_Flusso],[Cod_Scarto],[Desc_Scarto], [BitMask_Scarti], [Flag_Enabled]) SELECT 23, 'EMPTY_NUMERIC', 'Campo Numeric non valorizzato', 16, 1\n",
      "INSERT INTO [L0_SCARTI].[T_Desc_Scarti] ([ID_Flusso],[Cod_Scarto],[Desc_Scarto], [BitMask_Scarti], [Flag_Enabled]) SELECT 23, 'INVALID_NUMERIC', 'Campo Numeric non valido', 32, 1\n",
      "INSERT INTO [L0_SCARTI].[T_Desc_Scarti] ([ID_Flusso],[Cod_Scarto],[Desc_Scarto], [BitMask_Scarti], [Flag_Enabled]) SELECT 24, 'DUPLICATE_KEY', 'Chiave duplicata per il flusso in oggetto', 1, 0\n",
      "INSERT INTO [L0_SCARTI].[T_Desc_Scarti] ([ID_Flusso],[Cod_Scarto],[Desc_Scarto], [BitMask_Scarti], [Flag_Enabled]) SELECT 24, 'EMPTY_KEY', 'Chiave non valorizzata nel flusso in oggetto', 2, 1\n",
      "INSERT INTO [L0_SCARTI].[T_Desc_Scarti] ([ID_Flusso],[Cod_Scarto],[Desc_Scarto], [BitMask_Scarti], [Flag_Enabled]) SELECT 24, 'GET_ONE_DUPLICATE_KEY', 'In caso di chiave duplicata viene presa solamente una tra le righe duplicate. In particolare, viene presa la prima riga del file.', 4, 1\n",
      "INSERT INTO [L0_SCARTI].[T_Desc_Scarti] ([ID_Flusso],[Cod_Scarto],[Desc_Scarto], [BitMask_Scarti], [Flag_Enabled]) SELECT 24, 'EMPTY_DATE', 'Campo Date non valorizzato', 8, 1\n",
      "INSERT INTO [L0_SCARTI].[T_Desc_Scarti] ([ID_Flusso],[Cod_Scarto],[Desc_Scarto], [BitMask_Scarti], [Flag_Enabled]) SELECT 24, 'INVALID_DATE', 'Campo Date non valido', 16, 1\n",
      "INSERT INTO [L0_SCARTI].[T_Desc_Scarti] ([ID_Flusso],[Cod_Scarto],[Desc_Scarto], [BitMask_Scarti], [Flag_Enabled]) SELECT 24, 'EMPTY_NUMERIC', 'Campo Numeric non valorizzato', 16, 1\n",
      "INSERT INTO [L0_SCARTI].[T_Desc_Scarti] ([ID_Flusso],[Cod_Scarto],[Desc_Scarto], [BitMask_Scarti], [Flag_Enabled]) SELECT 24, 'INVALID_NUMERIC', 'Campo Numeric non valido', 32, 1\n",
      "INSERT INTO [L0_SCARTI].[T_Desc_Scarti] ([ID_Flusso],[Cod_Scarto],[Desc_Scarto], [BitMask_Scarti], [Flag_Enabled]) SELECT 25, 'DUPLICATE_KEY', 'Chiave duplicata per il flusso in oggetto', 1, 0\n",
      "INSERT INTO [L0_SCARTI].[T_Desc_Scarti] ([ID_Flusso],[Cod_Scarto],[Desc_Scarto], [BitMask_Scarti], [Flag_Enabled]) SELECT 25, 'EMPTY_KEY', 'Chiave non valorizzata nel flusso in oggetto', 2, 1\n",
      "INSERT INTO [L0_SCARTI].[T_Desc_Scarti] ([ID_Flusso],[Cod_Scarto],[Desc_Scarto], [BitMask_Scarti], [Flag_Enabled]) SELECT 25, 'GET_ONE_DUPLICATE_KEY', 'In caso di chiave duplicata viene presa solamente una tra le righe duplicate. In particolare, viene presa la prima riga del file.', 4, 1\n",
      "INSERT INTO [L0_SCARTI].[T_Desc_Scarti] ([ID_Flusso],[Cod_Scarto],[Desc_Scarto], [BitMask_Scarti], [Flag_Enabled]) SELECT 25, 'EMPTY_DATE', 'Campo Date non valorizzato', 8, 1\n",
      "INSERT INTO [L0_SCARTI].[T_Desc_Scarti] ([ID_Flusso],[Cod_Scarto],[Desc_Scarto], [BitMask_Scarti], [Flag_Enabled]) SELECT 25, 'INVALID_DATE', 'Campo Date non valido', 16, 1\n",
      "INSERT INTO [L0_SCARTI].[T_Desc_Scarti] ([ID_Flusso],[Cod_Scarto],[Desc_Scarto], [BitMask_Scarti], [Flag_Enabled]) SELECT 25, 'EMPTY_NUMERIC', 'Campo Numeric non valorizzato', 16, 1\n",
      "INSERT INTO [L0_SCARTI].[T_Desc_Scarti] ([ID_Flusso],[Cod_Scarto],[Desc_Scarto], [BitMask_Scarti], [Flag_Enabled]) SELECT 25, 'INVALID_NUMERIC', 'Campo Numeric non valido', 32, 1\n",
      "INSERT INTO [L0_SCARTI].[T_Desc_Scarti] ([ID_Flusso],[Cod_Scarto],[Desc_Scarto], [BitMask_Scarti], [Flag_Enabled]) SELECT 26, 'DUPLICATE_KEY', 'Chiave duplicata per il flusso in oggetto', 1, 0\n",
      "INSERT INTO [L0_SCARTI].[T_Desc_Scarti] ([ID_Flusso],[Cod_Scarto],[Desc_Scarto], [BitMask_Scarti], [Flag_Enabled]) SELECT 26, 'EMPTY_KEY', 'Chiave non valorizzata nel flusso in oggetto', 2, 1\n",
      "INSERT INTO [L0_SCARTI].[T_Desc_Scarti] ([ID_Flusso],[Cod_Scarto],[Desc_Scarto], [BitMask_Scarti], [Flag_Enabled]) SELECT 26, 'GET_ONE_DUPLICATE_KEY', 'In caso di chiave duplicata viene presa solamente una tra le righe duplicate. In particolare, viene presa la prima riga del file.', 4, 1\n",
      "INSERT INTO [L0_SCARTI].[T_Desc_Scarti] ([ID_Flusso],[Cod_Scarto],[Desc_Scarto], [BitMask_Scarti], [Flag_Enabled]) SELECT 26, 'EMPTY_DATE', 'Campo Date non valorizzato', 8, 1\n",
      "INSERT INTO [L0_SCARTI].[T_Desc_Scarti] ([ID_Flusso],[Cod_Scarto],[Desc_Scarto], [BitMask_Scarti], [Flag_Enabled]) SELECT 26, 'INVALID_DATE', 'Campo Date non valido', 16, 1\n",
      "INSERT INTO [L0_SCARTI].[T_Desc_Scarti] ([ID_Flusso],[Cod_Scarto],[Desc_Scarto], [BitMask_Scarti], [Flag_Enabled]) SELECT 27, 'DUPLICATE_KEY', 'Chiave duplicata per il flusso in oggetto', 1, 0\n",
      "INSERT INTO [L0_SCARTI].[T_Desc_Scarti] ([ID_Flusso],[Cod_Scarto],[Desc_Scarto], [BitMask_Scarti], [Flag_Enabled]) SELECT 27, 'EMPTY_KEY', 'Chiave non valorizzata nel flusso in oggetto', 2, 1\n",
      "INSERT INTO [L0_SCARTI].[T_Desc_Scarti] ([ID_Flusso],[Cod_Scarto],[Desc_Scarto], [BitMask_Scarti], [Flag_Enabled]) SELECT 27, 'GET_ONE_DUPLICATE_KEY', 'In caso di chiave duplicata viene presa solamente una tra le righe duplicate. In particolare, viene presa la prima riga del file.', 4, 1\n",
      "INSERT INTO [L0_SCARTI].[T_Desc_Scarti] ([ID_Flusso],[Cod_Scarto],[Desc_Scarto], [BitMask_Scarti], [Flag_Enabled]) SELECT 27, 'EMPTY_DATE', 'Campo Date non valorizzato', 8, 1\n",
      "INSERT INTO [L0_SCARTI].[T_Desc_Scarti] ([ID_Flusso],[Cod_Scarto],[Desc_Scarto], [BitMask_Scarti], [Flag_Enabled]) SELECT 27, 'INVALID_DATE', 'Campo Date non valido', 16, 1\n",
      "INSERT INTO [L0_SCARTI].[T_Desc_Scarti] ([ID_Flusso],[Cod_Scarto],[Desc_Scarto], [BitMask_Scarti], [Flag_Enabled]) SELECT 27, 'EMPTY_NUMERIC', 'Campo Numeric non valorizzato', 16, 1\n",
      "INSERT INTO [L0_SCARTI].[T_Desc_Scarti] ([ID_Flusso],[Cod_Scarto],[Desc_Scarto], [BitMask_Scarti], [Flag_Enabled]) SELECT 27, 'INVALID_NUMERIC', 'Campo Numeric non valido', 32, 1\n",
      "INSERT INTO [L0_SCARTI].[T_Desc_Scarti] ([ID_Flusso],[Cod_Scarto],[Desc_Scarto], [BitMask_Scarti], [Flag_Enabled]) SELECT 28, 'DUPLICATE_KEY', 'Chiave duplicata per il flusso in oggetto', 1, 0\n",
      "INSERT INTO [L0_SCARTI].[T_Desc_Scarti] ([ID_Flusso],[Cod_Scarto],[Desc_Scarto], [BitMask_Scarti], [Flag_Enabled]) SELECT 28, 'EMPTY_KEY', 'Chiave non valorizzata nel flusso in oggetto', 2, 1\n",
      "INSERT INTO [L0_SCARTI].[T_Desc_Scarti] ([ID_Flusso],[Cod_Scarto],[Desc_Scarto], [BitMask_Scarti], [Flag_Enabled]) SELECT 28, 'GET_ONE_DUPLICATE_KEY', 'In caso di chiave duplicata viene presa solamente una tra le righe duplicate. In particolare, viene presa la prima riga del file.', 4, 1\n",
      "\n"
     ]
    }
   ],
   "source": [
    "print(whole_query)"
   ]
  },
  {
   "cell_type": "code",
   "execution_count": null,
   "id": "f1e9d4ef",
   "metadata": {},
   "outputs": [],
   "source": []
  }
 ],
 "metadata": {
  "kernelspec": {
   "display_name": "Python 3 (ipykernel)",
   "language": "python",
   "name": "python3"
  },
  "language_info": {
   "codemirror_mode": {
    "name": "ipython",
    "version": 3
   },
   "file_extension": ".py",
   "mimetype": "text/x-python",
   "name": "python",
   "nbconvert_exporter": "python",
   "pygments_lexer": "ipython3",
   "version": "3.9.7"
  }
 },
 "nbformat": 4,
 "nbformat_minor": 5
}
