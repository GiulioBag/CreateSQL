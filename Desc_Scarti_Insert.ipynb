{
 "cells": [
  {
   "cell_type": "code",
   "execution_count": 1,
   "id": "8ca62c3b",
   "metadata": {},
   "outputs": [],
   "source": [
    "class Flusso:\n",
    "    def __init__ (self, name, date, numeric):\n",
    "        self.name = name\n",
    "        self.date = date\n",
    "        self.numeric = numeric"
   ]
  },
  {
   "cell_type": "code",
   "execution_count": 2,
   "id": "514db013",
   "metadata": {},
   "outputs": [],
   "source": [
    "flussi = [Flusso(\"FC_ANAG_CLI\", False, False), Flusso(\"FC_SALDI\", False, True) ,Flusso( \"FC_PRODOTTI\", True , True), Flusso( \"FC_MOVIMENTI\", True, True)]\n",
    "idFlusso = 39\n",
    "query = \"INSERT INTO [L0_SCARTI].[T_Desc_Scarti] ([ID_Flusso],[Cod_Scarto],[Desc_Scarto], [BitMask_Scarti], [Flag_Enabled]) SELECT \"\n"
   ]
  },
  {
   "cell_type": "code",
   "execution_count": 3,
   "id": "b4781d6f",
   "metadata": {},
   "outputs": [],
   "source": [
    "whole_query = \"\"\n",
    "for flusso in flussi:\n",
    "\n",
    "    whole_query += query + str(idFlusso) + \", 'DUPLICATE_KEY', 'Chiave duplicata per il flusso in oggetto', 1, 0\\n\"\n",
    "    whole_query += query + str(idFlusso) + \", 'EMPTY_KEY', 'Chiave non valorizzata nel flusso in oggetto', 2, 1\\n\"\n",
    "    whole_query += query + str(idFlusso) + \", 'GET_ONE_DUPLICATE_KEY', 'In caso di chiave duplicata viene presa solamente una tra le righe duplicate. In particolare, viene presa la prima riga del file.', 4, 1\\n\"\n",
    "    \n",
    "    bitMasck = 8\n",
    "    if flusso.date:\n",
    "        whole_query += query + str(idFlusso) + \", 'EMPTY_DATE', 'Campo Date non valorizzato', \" + str(bitMasck) + \", 1\\n\"\n",
    "        bitMasck *= 2\n",
    "        whole_query += query + str(idFlusso) + \", 'INVALID_DATE', 'Campo Date non valido', \" + str(bitMasck) + \", 1\\n\"\n",
    "        \n",
    "    if flusso.numeric:\n",
    "        whole_query += query + str(idFlusso) + \", 'EMPTY_NUMERIC', 'Campo Numeric non valorizzato', \" + str(bitMasck) + \", 1\\n\"\n",
    "        bitMasck *= 2\n",
    "        whole_query += query + str(idFlusso) + \", 'INVALID_NUMERIC', 'Campo Numeric non valido', \" + str(bitMasck) + \", 1\\n\"\n",
    "        \n",
    "    idFlusso += 1"
   ]
  },
  {
   "cell_type": "code",
   "execution_count": 4,
   "id": "3f929d0e",
   "metadata": {},
   "outputs": [
    {
     "name": "stdout",
     "output_type": "stream",
     "text": [
      "INSERT INTO [L0_SCARTI].[T_Desc_Scarti] ([ID_Flusso],[Cod_Scarto],[Desc_Scarto], [BitMask_Scarti], [Flag_Enabled]) SELECT 39, 'DUPLICATE_KEY', 'Chiave duplicata per il flusso in oggetto', 1, 0\n",
      "INSERT INTO [L0_SCARTI].[T_Desc_Scarti] ([ID_Flusso],[Cod_Scarto],[Desc_Scarto], [BitMask_Scarti], [Flag_Enabled]) SELECT 39, 'EMPTY_KEY', 'Chiave non valorizzata nel flusso in oggetto', 2, 1\n",
      "INSERT INTO [L0_SCARTI].[T_Desc_Scarti] ([ID_Flusso],[Cod_Scarto],[Desc_Scarto], [BitMask_Scarti], [Flag_Enabled]) SELECT 39, 'GET_ONE_DUPLICATE_KEY', 'In caso di chiave duplicata viene presa solamente una tra le righe duplicate. In particolare, viene presa la prima riga del file.', 4, 1\n",
      "INSERT INTO [L0_SCARTI].[T_Desc_Scarti] ([ID_Flusso],[Cod_Scarto],[Desc_Scarto], [BitMask_Scarti], [Flag_Enabled]) SELECT 40, 'DUPLICATE_KEY', 'Chiave duplicata per il flusso in oggetto', 1, 0\n",
      "INSERT INTO [L0_SCARTI].[T_Desc_Scarti] ([ID_Flusso],[Cod_Scarto],[Desc_Scarto], [BitMask_Scarti], [Flag_Enabled]) SELECT 40, 'EMPTY_KEY', 'Chiave non valorizzata nel flusso in oggetto', 2, 1\n",
      "INSERT INTO [L0_SCARTI].[T_Desc_Scarti] ([ID_Flusso],[Cod_Scarto],[Desc_Scarto], [BitMask_Scarti], [Flag_Enabled]) SELECT 40, 'GET_ONE_DUPLICATE_KEY', 'In caso di chiave duplicata viene presa solamente una tra le righe duplicate. In particolare, viene presa la prima riga del file.', 4, 1\n",
      "INSERT INTO [L0_SCARTI].[T_Desc_Scarti] ([ID_Flusso],[Cod_Scarto],[Desc_Scarto], [BitMask_Scarti], [Flag_Enabled]) SELECT 40, 'EMPTY_NUMERIC', 'Campo Numeric non valorizzato', 8, 1\n",
      "INSERT INTO [L0_SCARTI].[T_Desc_Scarti] ([ID_Flusso],[Cod_Scarto],[Desc_Scarto], [BitMask_Scarti], [Flag_Enabled]) SELECT 40, 'INVALID_NUMERIC', 'Campo Numeric non valido', 16, 1\n",
      "INSERT INTO [L0_SCARTI].[T_Desc_Scarti] ([ID_Flusso],[Cod_Scarto],[Desc_Scarto], [BitMask_Scarti], [Flag_Enabled]) SELECT 41, 'DUPLICATE_KEY', 'Chiave duplicata per il flusso in oggetto', 1, 0\n",
      "INSERT INTO [L0_SCARTI].[T_Desc_Scarti] ([ID_Flusso],[Cod_Scarto],[Desc_Scarto], [BitMask_Scarti], [Flag_Enabled]) SELECT 41, 'EMPTY_KEY', 'Chiave non valorizzata nel flusso in oggetto', 2, 1\n",
      "INSERT INTO [L0_SCARTI].[T_Desc_Scarti] ([ID_Flusso],[Cod_Scarto],[Desc_Scarto], [BitMask_Scarti], [Flag_Enabled]) SELECT 41, 'GET_ONE_DUPLICATE_KEY', 'In caso di chiave duplicata viene presa solamente una tra le righe duplicate. In particolare, viene presa la prima riga del file.', 4, 1\n",
      "INSERT INTO [L0_SCARTI].[T_Desc_Scarti] ([ID_Flusso],[Cod_Scarto],[Desc_Scarto], [BitMask_Scarti], [Flag_Enabled]) SELECT 41, 'EMPTY_DATE', 'Campo Date non valorizzato', 8, 1\n",
      "INSERT INTO [L0_SCARTI].[T_Desc_Scarti] ([ID_Flusso],[Cod_Scarto],[Desc_Scarto], [BitMask_Scarti], [Flag_Enabled]) SELECT 41, 'INVALID_DATE', 'Campo Date non valido', 16, 1\n",
      "INSERT INTO [L0_SCARTI].[T_Desc_Scarti] ([ID_Flusso],[Cod_Scarto],[Desc_Scarto], [BitMask_Scarti], [Flag_Enabled]) SELECT 41, 'EMPTY_NUMERIC', 'Campo Numeric non valorizzato', 16, 1\n",
      "INSERT INTO [L0_SCARTI].[T_Desc_Scarti] ([ID_Flusso],[Cod_Scarto],[Desc_Scarto], [BitMask_Scarti], [Flag_Enabled]) SELECT 41, 'INVALID_NUMERIC', 'Campo Numeric non valido', 32, 1\n",
      "INSERT INTO [L0_SCARTI].[T_Desc_Scarti] ([ID_Flusso],[Cod_Scarto],[Desc_Scarto], [BitMask_Scarti], [Flag_Enabled]) SELECT 42, 'DUPLICATE_KEY', 'Chiave duplicata per il flusso in oggetto', 1, 0\n",
      "INSERT INTO [L0_SCARTI].[T_Desc_Scarti] ([ID_Flusso],[Cod_Scarto],[Desc_Scarto], [BitMask_Scarti], [Flag_Enabled]) SELECT 42, 'EMPTY_KEY', 'Chiave non valorizzata nel flusso in oggetto', 2, 1\n",
      "INSERT INTO [L0_SCARTI].[T_Desc_Scarti] ([ID_Flusso],[Cod_Scarto],[Desc_Scarto], [BitMask_Scarti], [Flag_Enabled]) SELECT 42, 'GET_ONE_DUPLICATE_KEY', 'In caso di chiave duplicata viene presa solamente una tra le righe duplicate. In particolare, viene presa la prima riga del file.', 4, 1\n",
      "INSERT INTO [L0_SCARTI].[T_Desc_Scarti] ([ID_Flusso],[Cod_Scarto],[Desc_Scarto], [BitMask_Scarti], [Flag_Enabled]) SELECT 42, 'EMPTY_DATE', 'Campo Date non valorizzato', 8, 1\n",
      "INSERT INTO [L0_SCARTI].[T_Desc_Scarti] ([ID_Flusso],[Cod_Scarto],[Desc_Scarto], [BitMask_Scarti], [Flag_Enabled]) SELECT 42, 'INVALID_DATE', 'Campo Date non valido', 16, 1\n",
      "INSERT INTO [L0_SCARTI].[T_Desc_Scarti] ([ID_Flusso],[Cod_Scarto],[Desc_Scarto], [BitMask_Scarti], [Flag_Enabled]) SELECT 42, 'EMPTY_NUMERIC', 'Campo Numeric non valorizzato', 16, 1\n",
      "INSERT INTO [L0_SCARTI].[T_Desc_Scarti] ([ID_Flusso],[Cod_Scarto],[Desc_Scarto], [BitMask_Scarti], [Flag_Enabled]) SELECT 42, 'INVALID_NUMERIC', 'Campo Numeric non valido', 32, 1\n",
      "\n"
     ]
    }
   ],
   "source": [
    "print(whole_query)"
   ]
  },
  {
   "cell_type": "code",
   "execution_count": null,
   "id": "f1e9d4ef",
   "metadata": {},
   "outputs": [],
   "source": []
  }
 ],
 "metadata": {
  "kernelspec": {
   "display_name": "Python 3 (ipykernel)",
   "language": "python",
   "name": "python3"
  },
  "language_info": {
   "codemirror_mode": {
    "name": "ipython",
    "version": 3
   },
   "file_extension": ".py",
   "mimetype": "text/x-python",
   "name": "python",
   "nbconvert_exporter": "python",
   "pygments_lexer": "ipython3",
   "version": "3.9.7"
  }
 },
 "nbformat": 4,
 "nbformat_minor": 5
}
